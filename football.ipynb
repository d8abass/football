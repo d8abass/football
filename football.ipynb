{
 "cells": [
  {
   "cell_type": "markdown",
   "id": "0fd8c21b-eef7-4130-8df5-61be2fed087d",
   "metadata": {},
   "source": [
    "# Read the dataset"
   ]
  },
  {
   "cell_type": "code",
   "execution_count": 2,
   "id": "e143db45-8dc3-4aac-b433-68059c613173",
   "metadata": {},
   "outputs": [
    {
     "name": "stdout",
     "output_type": "stream",
     "text": [
      "             date  home_team  away_team  home_score  away_score  \\\n",
      "0      1872-11-30   Scotland    England           0           0   \n",
      "1      1873-03-08    England   Scotland           4           2   \n",
      "2      1874-03-07   Scotland    England           2           1   \n",
      "3      1875-03-06    England   Scotland           2           2   \n",
      "4      1876-03-04   Scotland    England           3           0   \n",
      "...           ...        ...        ...         ...         ...   \n",
      "42645  2021-09-09   Colombia      Chile           3           1   \n",
      "42646  2021-09-09   Paraguay  Venezuela           2           1   \n",
      "42647  2021-09-09    Uruguay    Ecuador           1           0   \n",
      "42648  2021-09-09  Argentina    Bolivia           3           0   \n",
      "42649  2021-09-09     Brazil       Peru           2           0   \n",
      "\n",
      "                         tournament          city    country  neutral  \n",
      "0                          Friendly       Glasgow   Scotland    False  \n",
      "1                          Friendly        London    England    False  \n",
      "2                          Friendly       Glasgow   Scotland    False  \n",
      "3                          Friendly        London    England    False  \n",
      "4                          Friendly       Glasgow   Scotland    False  \n",
      "...                             ...           ...        ...      ...  \n",
      "42645  FIFA World Cup qualification  Barranquilla   Colombia    False  \n",
      "42646  FIFA World Cup qualification      Asunción   Paraguay    False  \n",
      "42647  FIFA World Cup qualification    Montevideo    Uruguay    False  \n",
      "42648  FIFA World Cup qualification  Buenos Aires  Argentina    False  \n",
      "42649  FIFA World Cup qualification        Recife     Brazil    False  \n",
      "\n",
      "[42650 rows x 9 columns]\n"
     ]
    }
   ],
   "source": [
    "import pandas as pd\n",
    "\n",
    "df = pd.read_csv('results.csv', skip_blank_lines = True)\n",
    "print(df)"
   ]
  },
  {
   "cell_type": "markdown",
   "id": "5a3ede33-09c9-4f66-a795-52bc1079d367",
   "metadata": {},
   "source": [
    "# Exploring the dataset"
   ]
  },
  {
   "cell_type": "code",
   "execution_count": 8,
   "id": "9643d4d6-25de-4e78-a9f3-0b53758b1e3b",
   "metadata": {},
   "outputs": [
    {
     "name": "stdout",
     "output_type": "stream",
     "text": [
      "42650\n",
      "120\n"
     ]
    }
   ],
   "source": [
    "# number of rows\n",
    "print(len(df))\n",
    "\n",
    "#number of tournaments\n",
    "tournaments = len(df.tournament.unique())\n",
    "print(tournaments)"
   ]
  },
  {
   "cell_type": "markdown",
   "id": "ef747d76-ce1a-41ba-8341-9b03cfabc38f",
   "metadata": {},
   "source": [
    "# Convert and Deduce"
   ]
  },
  {
   "cell_type": "code",
   "execution_count": 10,
   "id": "6435f75c-8783-48d3-b87f-570369ce2d4e",
   "metadata": {},
   "outputs": [
    {
     "name": "stdout",
     "output_type": "stream",
     "text": [
      "908\n"
     ]
    }
   ],
   "source": [
    "df['date'] = pd.to_datetime(df['date'])\n",
    "print(len(df[df.date.dt.year == 2018]))"
   ]
  },
  {
   "cell_type": "markdown",
   "id": "59765b33-c301-4a86-837a-617a1239b7a0",
   "metadata": {},
   "source": [
    "# Team Statistics"
   ]
  },
  {
   "cell_type": "code",
   "execution_count": 29,
   "id": "b95feba2-ca98-470c-87d4-8bdaafeda2c8",
   "metadata": {},
   "outputs": [
    {
     "name": "stdout",
     "output_type": "stream",
     "text": [
      "      result  counts\n",
      "0       draw    9837\n",
      "1  home_loss   12074\n",
      "2   home_win   20739\n"
     ]
    },
    {
     "data": {
      "text/plain": [
       "pandas.core.frame.DataFrame"
      ]
     },
     "execution_count": 29,
     "metadata": {},
     "output_type": "execute_result"
    }
   ],
   "source": [
    "import numpy as np\n",
    "\n",
    "df['result'] = np.where(df['home_score'] > df['away_score'], 'home_win', \n",
    "                        np.where(df['home_score'] < df ['away_score'], 'home_loss', 'draw'))\n",
    "df.groupby(['result']).size()\n",
    "\n",
    "score_freq = df.groupby(['result']).size().reset_index(name='counts')\n",
    "print(score_freq)\n",
    "type(score_freq)"
   ]
  },
  {
   "cell_type": "markdown",
   "id": "8df72cb1-f2d6-4f49-b612-9929330c7526",
   "metadata": {},
   "source": [
    "# Visualization"
   ]
  },
  {
   "cell_type": "code",
   "execution_count": 30,
   "id": "9517c3d5-efaf-4b72-9d7c-ebdf77dd6c41",
   "metadata": {},
   "outputs": [
    {
     "data": {
      "text/plain": [
       "([<matplotlib.patches.Wedge at 0x1a4b11a3020>,\n",
       "  <matplotlib.patches.Wedge at 0x1a4b174cef0>,\n",
       "  <matplotlib.patches.Wedge at 0x1a4b11bcad0>],\n",
       " [Text(0.8236469557819166, 0.7291129488845893, 'draw'),\n",
       "  Text(-0.7639752481092681, 0.7914176016973483, 'home_loss'),\n",
       "  Text(0.047466475106033794, -1.0989754017906899, 'home_win')])"
      ]
     },
     "execution_count": 30,
     "metadata": {},
     "output_type": "execute_result"
    },
    {
     "data": {
      "image/png": "[encoded data removed]",
      "text/plain": [
       "<Figure size 640x480 with 1 Axes>"
      ]
     },
     "metadata": {},
     "output_type": "display_data"
    }
   ],
   "source": [
    "import matplotlib.pyplot as plt\n",
    "\n",
    "labels = score_freq.result.values\n",
    "sizes = score_freq.counts.values\n",
    "\n",
    "fig, ax = plt.subplots()\n",
    "ax.pie(sizes, labels=labels)"
   ]
  },
  {
   "cell_type": "code",
   "execution_count": 37,
   "id": "d5db44ac-702e-4eb0-89a9-6bb26e2204cd",
   "metadata": {},
   "outputs": [
    {
     "name": "stdout",
     "output_type": "stream",
     "text": [
      "   neutral  counts\n",
      "0    False   32076\n",
      "1     True   10574\n"
     ]
    },
    {
     "data": {
      "text/plain": [
       "([<matplotlib.patches.Wedge at 0x1a4b5dab020>,\n",
       "  <matplotlib.patches.Wedge at 0x1a4b5d96480>],\n",
       " [Text(-0.7828713770530386, 0.7727304879394103, 'False'),\n",
       "  Text(0.7828713408789129, -0.7727305245882636, 'True')])"
      ]
     },
     "execution_count": 37,
     "metadata": {},
     "output_type": "execute_result"
    },
    {
     "data": {
      "image/png": "[encoded data removed]",
      "text/plain": [
       "<Figure size 640x480 with 1 Axes>"
      ]
     },
     "metadata": {},
     "output_type": "display_data"
    }
   ],
   "source": [
    "neutral_tf = df.groupby(['neutral']).size().reset_index(name = 'counts')\n",
    "print(neutral_tf)\n",
    "\n",
    "labels = neutral_tf.neutral.values\n",
    "sizes = neutral_tf.counts.values\n",
    "\n",
    "fig, ax = plt.subplots()\n",
    "ax.pie(sizes, labels=labels)"
   ]
  },
  {
   "cell_type": "markdown",
   "id": "10c10017-29da-4553-be32-5cbbeb0f6b71",
   "metadata": {},
   "source": [
    "# Unique Teams"
   ]
  },
  {
   "cell_type": "code",
   "execution_count": 42,
   "id": "151e879b-5b86-4d45-a829-317648f2951d",
   "metadata": {},
   "outputs": [
    {
     "name": "stdout",
     "output_type": "stream",
     "text": [
      "313\n"
     ]
    }
   ],
   "source": [
    "teams = pd.concat([df['home_team'], df['away_team']])\n",
    "print(len(teams.unique()))"
   ]
  },
  {
   "cell_type": "code",
   "execution_count": null,
   "id": "38aab466-4627-42c8-bc80-8c03d1c7632c",
   "metadata": {},
   "outputs": [],
   "source": []
  }
 ],
 "metadata": {
  "kernelspec": {
   "display_name": "Python [conda env:base] *",
   "language": "python",
   "name": "conda-base-py"
  },
  "language_info": {
   "codemirror_mode": {
    "name": "ipython",
    "version": 3
   },
   "file_extension": ".py",
   "mimetype": "text/x-python",
   "name": "python",
   "nbconvert_exporter": "python",
   "pygments_lexer": "ipython3",
   "version": "3.12.7"
  }
 },
 "nbformat": 4,
 "nbformat_minor": 5
}
